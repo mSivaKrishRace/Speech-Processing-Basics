{
 "cells": [
  {
   "cell_type": "code",
   "execution_count": 1,
   "metadata": {
    "collapsed": true
   },
   "outputs": [],
   "source": [
    "import sys\n",
    "\n",
    "sys.path.insert(0, '../pyAudioAnalysis-master')\n",
    "from pyAudioAnalysis import audioBasicIO\n",
    "from pyAudioAnalysis import audioFeatureExtraction\n",
    "from pydub import AudioSegment\n",
    "import numpy as np\n",
    "import librosa\n",
    "import pickle \n",
    "import os"
   ]
  },
  {
   "cell_type": "code",
   "execution_count": 2,
   "metadata": {
    "collapsed": true
   },
   "outputs": [],
   "source": [
    "#Path related to Old Data\n",
    "#path_to_files = '/home/lenovo/Prathvi/NeuralNetwork/Kannada_Dataset/5classsplit/'\n",
    "#folder_path = '/home/lenovo/Prathvi/NeuralNetwork/Project/Kannadaextracted_Features/splitmonodata/'\n",
    "\n",
    "\n",
    "path_to_files = '/home/lenovo/All5_KannadaDataAug2018/5Class/'\n",
    "folder_path = '/home/lenovo/All5_KannadaDataAug2018/SERB_Project_Progs/'\n",
    "max_classes = 5;\n",
    "\n",
    "#Dont Edit\n",
    "max_classes += 1;"
   ]
  },
  {
   "cell_type": "code",
   "execution_count": 3,
   "metadata": {
    "collapsed": true
   },
   "outputs": [],
   "source": [
    "# Run this cell to freshly extract Mel_Features for all Audio Clips\n",
    "\n",
    "X_mel = []\n",
    "y_mel = []\n",
    "\n",
    "j_num  = 0\n",
    "\n",
    "for i in range(1,max_classes):\n",
    "        folder_name =  path_to_files + 'D' + str(i) + '/'\n",
    "        path_list = os.listdir(folder_name)\n",
    "        j_num = 0\n",
    "        for j in path_list:\n",
    "                j_num += 1\n",
    "                if '.wav' in j:\n",
    "                    y_, sr = librosa.load(folder_name + j)\n",
    "                    try:\n",
    "                        #mfcc = librosa.feature.mfcc(y=y_, sr=sr,n_mfcc=13)\n",
    "                        mel_f =librosa.feature.melspectrogram(y=y_, sr=sr, n_mels=128,\n",
    "                                   fmax=8000)\n",
    "                    except:\n",
    "                        print ('Skipping this file')\n",
    "                        continue\n",
    "                 \n",
    "                    mel_cumulative_features = []\n",
    "                    for k in range(len(mel_f)):\n",
    "                        mel_cumulative_features.append(mel_f[k].mean())\n",
    "                       # mel_cumulative_features.append(mel_f[k].std())\n",
    "                    X_mel.append(mel_cumulative_features)\n",
    "                    y_mel.append(i)\n",
    "                    \n"
   ]
  },
  {
   "cell_type": "code",
   "execution_count": 6,
   "metadata": {
    "collapsed": true
   },
   "outputs": [],
   "source": [
    "with open(folder_path + 'Mel_Features/Mel_labels_' + str(max_classes-1) + '.csv',mode='wb') as fp:\n",
    "    pickle.dump(y_mel,fp)\n",
    "    \n",
    "with open(folder_path +'Mel_Features/Mel_features_' + str(max_classes-1) + '.csv',mode='wb') as fp:\n",
    "    pickle.dump(X_mel,fp)"
   ]
  },
  {
   "cell_type": "code",
   "execution_count": null,
   "metadata": {
    "collapsed": true
   },
   "outputs": [],
   "source": []
  }
 ],
 "metadata": {
  "kernelspec": {
   "display_name": "Python 3",
   "language": "python",
   "name": "python3"
  },
  "language_info": {
   "codemirror_mode": {
    "name": "ipython",
    "version": 3
   },
   "file_extension": ".py",
   "mimetype": "text/x-python",
   "name": "python",
   "nbconvert_exporter": "python",
   "pygments_lexer": "ipython3",
   "version": "3.6.4"
  }
 },
 "nbformat": 4,
 "nbformat_minor": 2
}
